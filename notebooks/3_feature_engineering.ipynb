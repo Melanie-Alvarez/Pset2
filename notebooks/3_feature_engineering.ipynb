{
 "cells": [
  {
   "cell_type": "code",
   "execution_count": 167,
   "metadata": {},
   "outputs": [],
   "source": [
    "import pandas as pd\n",
    "import os"
   ]
  },
  {
   "cell_type": "code",
   "execution_count": 168,
   "metadata": {},
   "outputs": [],
   "source": [
    "df_airbnb_clean = pd.read_csv('/Users/melaniealvarez/Documents/Octavo semestres/Data Mining/Pset2/data/processed/airbnb_clean.csv')"
   ]
  },
  {
   "cell_type": "markdown",
   "metadata": {},
   "source": [
    "Verificar que las variables anteriormente manipuladas no tengan valores nulos"
   ]
  },
  {
   "cell_type": "code",
   "execution_count": 169,
   "metadata": {},
   "outputs": [
    {
     "data": {
      "text/plain": [
       "0"
      ]
     },
     "execution_count": 169,
     "metadata": {},
     "output_type": "execute_result"
    }
   ],
   "source": [
    "df_airbnb_clean['review_scores_rating'].isna().sum()"
   ]
  },
  {
   "cell_type": "code",
   "execution_count": 170,
   "metadata": {},
   "outputs": [
    {
     "data": {
      "text/plain": [
       "0"
      ]
     },
     "execution_count": 170,
     "metadata": {},
     "output_type": "execute_result"
    }
   ],
   "source": [
    "df_airbnb_clean['zipcode'].isna().sum()"
   ]
  },
  {
   "cell_type": "code",
   "execution_count": 171,
   "metadata": {},
   "outputs": [
    {
     "data": {
      "text/plain": [
       "0"
      ]
     },
     "execution_count": 171,
     "metadata": {},
     "output_type": "execute_result"
    }
   ],
   "source": [
    "df_airbnb_clean['bedrooms'].isna().sum()"
   ]
  },
  {
   "cell_type": "markdown",
   "metadata": {},
   "source": [
    "Nuevo dataframe con las variables pertinentes para el modelo"
   ]
  },
  {
   "cell_type": "code",
   "execution_count": 172,
   "metadata": {},
   "outputs": [
    {
     "name": "stdout",
     "output_type": "stream",
     "text": [
      "<class 'pandas.core.frame.DataFrame'>\n",
      "RangeIndex: 74111 entries, 0 to 74110\n",
      "Data columns (total 10 columns):\n",
      " #   Column                Non-Null Count  Dtype  \n",
      "---  ------                --------------  -----  \n",
      " 0   id                    74111 non-null  int64  \n",
      " 1   log_price             74111 non-null  float64\n",
      " 2   property_type         74111 non-null  object \n",
      " 3   room_type             74111 non-null  object \n",
      " 4   amenities             74111 non-null  object \n",
      " 5   accommodates          74111 non-null  int64  \n",
      " 6   cleaning_fee          74111 non-null  bool   \n",
      " 7   city                  74111 non-null  object \n",
      " 8   review_scores_rating  74111 non-null  float64\n",
      " 9   bedrooms              74111 non-null  float64\n",
      "dtypes: bool(1), float64(3), int64(2), object(4)\n",
      "memory usage: 5.2+ MB\n",
      "None\n"
     ]
    }
   ],
   "source": [
    "# Lista de columnas a conservar\n",
    "columns_to_keep = [\n",
    "    'id', 'log_price', 'property_type', 'room_type', 'amenities',\n",
    "    'accommodates', 'cleaning_fee', 'city', 'review_scores_rating',\n",
    "    'bedrooms'\n",
    "]\n",
    "\n",
    "# Crear un nuevo DataFrame con solo estas columnas\n",
    "df_airbnb_ml = df_airbnb_clean[columns_to_keep]\n",
    "\n",
    "# Mostrar información del nuevo DataFrame\n",
    "print(df_airbnb_ml.info())"
   ]
  },
  {
   "cell_type": "markdown",
   "metadata": {},
   "source": [
    "One-Hot Encoding para room_type"
   ]
  },
  {
   "cell_type": "code",
   "execution_count": 173,
   "metadata": {},
   "outputs": [],
   "source": [
    "df_airbnb_ml = pd.get_dummies(df_airbnb_ml, columns=['room_type'], prefix='room')\n",
    "\n",
    "room_cols = [col for col in df_airbnb_ml.columns if col.startswith('room_')]\n",
    "df_airbnb_ml[room_cols] = df_airbnb_ml[room_cols].astype(int)"
   ]
  },
  {
   "cell_type": "markdown",
   "metadata": {},
   "source": [
    "Convertir valores bool true/false en 0 y 1"
   ]
  },
  {
   "cell_type": "code",
   "execution_count": 174,
   "metadata": {},
   "outputs": [],
   "source": [
    "df_airbnb_ml = pd.get_dummies(df_airbnb_ml, columns=['city'], prefix='city')\n",
    "\n",
    "room_cols_city = [col for col in df_airbnb_ml.columns if col.startswith('city_')]\n",
    "df_airbnb_ml[room_cols_city] = df_airbnb_ml[room_cols_city].astype(int)"
   ]
  },
  {
   "cell_type": "code",
   "execution_count": 175,
   "metadata": {},
   "outputs": [],
   "source": [
    "df_airbnb_ml['amenities'] = df_airbnb_ml['amenities'].apply(lambda x: 0 if x == '{}' else 1)"
   ]
  },
  {
   "cell_type": "code",
   "execution_count": 176,
   "metadata": {},
   "outputs": [],
   "source": [
    "df_airbnb_ml['cleaning_fee'] = df_airbnb_ml['cleaning_fee'].astype(int)"
   ]
  },
  {
   "cell_type": "code",
   "execution_count": 177,
   "metadata": {},
   "outputs": [],
   "source": [
    "from sklearn.preprocessing import LabelEncoder"
   ]
  },
  {
   "cell_type": "markdown",
   "metadata": {},
   "source": [
    "Label Encoding a 'property_type'"
   ]
  },
  {
   "cell_type": "code",
   "execution_count": 178,
   "metadata": {},
   "outputs": [
    {
     "name": "stdout",
     "output_type": "stream",
     "text": [
      "  property_type  property_type_encoded\n",
      "0     Apartment                      0\n",
      "1     Apartment                      0\n",
      "2     Apartment                      0\n",
      "3         House                     17\n",
      "4     Apartment                      0\n"
     ]
    }
   ],
   "source": [
    "le = LabelEncoder()\n",
    "\n",
    "df_airbnb_ml['property_type_encoded'] = le.fit_transform(df_airbnb_ml['property_type'])\n",
    "\n",
    "print(df_airbnb_ml[['property_type', 'property_type_encoded']].head())\n"
   ]
  },
  {
   "cell_type": "code",
   "execution_count": 179,
   "metadata": {},
   "outputs": [
    {
     "name": "stdout",
     "output_type": "stream",
     "text": [
      "<class 'pandas.core.frame.DataFrame'>\n",
      "RangeIndex: 74111 entries, 0 to 74110\n",
      "Data columns (total 18 columns):\n",
      " #   Column                 Non-Null Count  Dtype  \n",
      "---  ------                 --------------  -----  \n",
      " 0   id                     74111 non-null  int64  \n",
      " 1   log_price              74111 non-null  float64\n",
      " 2   property_type          74111 non-null  object \n",
      " 3   amenities              74111 non-null  int64  \n",
      " 4   accommodates           74111 non-null  int64  \n",
      " 5   cleaning_fee           74111 non-null  int64  \n",
      " 6   review_scores_rating   74111 non-null  float64\n",
      " 7   bedrooms               74111 non-null  float64\n",
      " 8   room_Entire home/apt   74111 non-null  int64  \n",
      " 9   room_Private room      74111 non-null  int64  \n",
      " 10  room_Shared room       74111 non-null  int64  \n",
      " 11  city_Boston            74111 non-null  int64  \n",
      " 12  city_Chicago           74111 non-null  int64  \n",
      " 13  city_DC                74111 non-null  int64  \n",
      " 14  city_LA                74111 non-null  int64  \n",
      " 15  city_NYC               74111 non-null  int64  \n",
      " 16  city_SF                74111 non-null  int64  \n",
      " 17  property_type_encoded  74111 non-null  int64  \n",
      "dtypes: float64(3), int64(14), object(1)\n",
      "memory usage: 10.2+ MB\n"
     ]
    }
   ],
   "source": [
    "df_airbnb_ml.info()"
   ]
  },
  {
   "cell_type": "code",
   "execution_count": 180,
   "metadata": {},
   "outputs": [],
   "source": [
    "folder_path = \"/Users/melaniealvarez/Documents/Octavo semestres/Data Mining/Pset2/data/ml\"\n",
    "file_path = os.path.join(folder_path, \"airbnb_analysis.csv\")\n",
    "df_airbnb_ml.to_csv(file_path, index=False)"
   ]
  }
 ],
 "metadata": {
  "kernelspec": {
   "display_name": "base",
   "language": "python",
   "name": "python3"
  },
  "language_info": {
   "codemirror_mode": {
    "name": "ipython",
    "version": 3
   },
   "file_extension": ".py",
   "mimetype": "text/x-python",
   "name": "python",
   "nbconvert_exporter": "python",
   "pygments_lexer": "ipython3",
   "version": "3.12.7"
  }
 },
 "nbformat": 4,
 "nbformat_minor": 2
}
