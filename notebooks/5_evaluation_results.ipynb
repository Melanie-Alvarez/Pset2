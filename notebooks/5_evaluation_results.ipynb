{
 "cells": [
  {
   "cell_type": "code",
   "execution_count": 1,
   "metadata": {},
   "outputs": [],
   "source": [
    "import pandas as pd\n",
    "import numpy as np\n",
    "import matplotlib.pyplot as plt\n",
    "from sklearn.model_selection import train_test_split, KFold, cross_val_score\n",
    "from sklearn.linear_model import LinearRegression, SGDRegressor, Ridge, Lasso\n",
    "from sklearn.preprocessing import PolynomialFeatures, StandardScaler\n",
    "from sklearn.decomposition import TruncatedSVD\n",
    "from sklearn.pipeline import Pipeline\n",
    "from sklearn.metrics import mean_squared_error, mean_absolute_error, r2_score"
   ]
  },
  {
   "cell_type": "markdown",
   "metadata": {},
   "source": [
    "Importar datos"
   ]
  },
  {
   "cell_type": "code",
   "execution_count": 2,
   "metadata": {},
   "outputs": [],
   "source": [
    "# Cargar datos\n",
    "df_airbnb_cost = pd.read_csv('/Users/melaniealvarez/Documents/Octavo semestres/Data Mining/Pset2/data/ml/airbnb_analysis.csv')"
   ]
  },
  {
   "cell_type": "markdown",
   "metadata": {},
   "source": [
    "División de datos"
   ]
  },
  {
   "cell_type": "code",
   "execution_count": 3,
   "metadata": {},
   "outputs": [],
   "source": [
    "# Definir características y objetivo\n",
    "features = ['amenities', 'accommodates', 'cleaning_fee', 'review_scores_rating', 'bedrooms', 'room_Entire home/apt', 'room_Private room', 'room_Shared room', 'city_Boston', 'city_Chicago', 'city_DC', 'city_LA', 'city_NYC', 'city_SF', 'property_type_encoded']\n",
    "target = \"log_price\"\n",
    "\n",
    "X = df_airbnb_cost[features].values\n",
    "y = df_airbnb_cost[target].values.reshape(-1, 1)\n",
    "\n",
    "# Dividir en conjunto de entrenamiento y prueba\n",
    "X_train, X_test, y_train, y_test = train_test_split(X, y, test_size=0.2, random_state=42)"
   ]
  },
  {
   "cell_type": "markdown",
   "metadata": {},
   "source": [
    "Escalar datos"
   ]
  },
  {
   "cell_type": "code",
   "execution_count": 4,
   "metadata": {},
   "outputs": [],
   "source": [
    "scaler = StandardScaler()\n",
    "X_train = scaler.fit_transform(X_train)\n",
    "X_test = scaler.transform(X_test)"
   ]
  },
  {
   "cell_type": "markdown",
   "metadata": {},
   "source": [
    "Entrenar modelos"
   ]
  },
  {
   "cell_type": "code",
   "execution_count": 5,
   "metadata": {},
   "outputs": [],
   "source": [
    "# Configurar validación cruzada\n",
    "kf = KFold(n_splits=5, shuffle=True, random_state=42)\n",
    "\n",
    "# Lista de modelos a evaluar\n",
    "models = {\n",
    "    \"Linear Regression\": LinearRegression(),\n",
    "    \"Linear Regression SVD\": Pipeline([\n",
    "        ('svd', TruncatedSVD(n_components=min(X_train.shape) - 1)),\n",
    "        ('lin_reg', LinearRegression())\n",
    "    ]),\n",
    "    \"Batch Gradient Descent\": SGDRegressor(max_iter=1000, tol=1e-3, eta0=0.01, learning_rate='constant', random_state=42),\n",
    "    \"Stochastic Gradient Descent\": SGDRegressor(max_iter=1, tol=None, eta0=0.01, learning_rate='constant', random_state=42, shuffle=True),\n",
    "    \"Polynomial Regression\": Pipeline([\n",
    "        ('poly_features', PolynomialFeatures(degree=2, include_bias=False)),\n",
    "        ('scaler', StandardScaler()),\n",
    "        ('lin_reg', LinearRegression())\n",
    "    ]),\n",
    "    \"Ridge Regression\": Ridge(alpha=1.0),\n",
    "    \"Lasso Regression\": Lasso(alpha=1.0)\n",
    "}"
   ]
  },
  {
   "cell_type": "markdown",
   "metadata": {},
   "source": [
    "Evaluación de modelos según métricas"
   ]
  },
  {
   "cell_type": "code",
   "execution_count": 6,
   "metadata": {},
   "outputs": [
    {
     "name": "stderr",
     "output_type": "stream",
     "text": [
      "/opt/anaconda3/lib/python3.12/site-packages/sklearn/metrics/_regression.py:492: FutureWarning: 'squared' is deprecated in version 1.4 and will be removed in 1.6. To calculate the root mean squared error, use the function'root_mean_squared_error'.\n",
      "  warnings.warn(\n",
      "/opt/anaconda3/lib/python3.12/site-packages/sklearn/metrics/_regression.py:492: FutureWarning: 'squared' is deprecated in version 1.4 and will be removed in 1.6. To calculate the root mean squared error, use the function'root_mean_squared_error'.\n",
      "  warnings.warn(\n",
      "/opt/anaconda3/lib/python3.12/site-packages/sklearn/metrics/_regression.py:492: FutureWarning: 'squared' is deprecated in version 1.4 and will be removed in 1.6. To calculate the root mean squared error, use the function'root_mean_squared_error'.\n",
      "  warnings.warn(\n",
      "/opt/anaconda3/lib/python3.12/site-packages/sklearn/metrics/_regression.py:492: FutureWarning: 'squared' is deprecated in version 1.4 and will be removed in 1.6. To calculate the root mean squared error, use the function'root_mean_squared_error'.\n",
      "  warnings.warn(\n",
      "/opt/anaconda3/lib/python3.12/site-packages/sklearn/metrics/_regression.py:492: FutureWarning: 'squared' is deprecated in version 1.4 and will be removed in 1.6. To calculate the root mean squared error, use the function'root_mean_squared_error'.\n",
      "  warnings.warn(\n",
      "/opt/anaconda3/lib/python3.12/site-packages/sklearn/metrics/_regression.py:492: FutureWarning: 'squared' is deprecated in version 1.4 and will be removed in 1.6. To calculate the root mean squared error, use the function'root_mean_squared_error'.\n",
      "  warnings.warn(\n"
     ]
    },
    {
     "name": "stdout",
     "output_type": "stream",
     "text": [
      "                         Model   RMSE_CV    MAE_CV     R2_CV  RMSE_Test  \\\n",
      "4        Polynomial Regression  0.479303  0.360298  0.553689   0.477713   \n",
      "1        Linear Regression SVD  0.489320  0.368183  0.534853   0.488243   \n",
      "5             Ridge Regression  0.489320  0.368183  0.534853   0.488243   \n",
      "0            Linear Regression  0.489323  0.368200  0.534849   0.488297   \n",
      "2       Batch Gradient Descent  0.520300  0.391022  0.473843   0.503889   \n",
      "3  Stochastic Gradient Descent  0.519211  0.389761  0.476330   0.509075   \n",
      "6             Lasso Regression  0.717548  0.561747 -0.000148   0.716788   \n",
      "\n",
      "   MAE_Test   R2_Test  \n",
      "4  0.360085  0.555774  \n",
      "1  0.368433  0.535976  \n",
      "5  0.368433  0.535976  \n",
      "0  0.368429  0.535873  \n",
      "2  0.381786  0.505760  \n",
      "3  0.382426  0.495533  \n",
      "6  0.560360 -0.000114  \n",
      "Mejor modelo: Polynomial Regression con RMSE_Test: 0.4777\n"
     ]
    },
    {
     "name": "stderr",
     "output_type": "stream",
     "text": [
      "/opt/anaconda3/lib/python3.12/site-packages/sklearn/metrics/_regression.py:492: FutureWarning: 'squared' is deprecated in version 1.4 and will be removed in 1.6. To calculate the root mean squared error, use the function'root_mean_squared_error'.\n",
      "  warnings.warn(\n"
     ]
    }
   ],
   "source": [
    "# Almacenar métricas\n",
    "evaluations = []\n",
    "\n",
    "# Evaluar cada modelo\n",
    "for name, model in models.items():\n",
    "    rmse_scores = -cross_val_score(model, X_train, y_train.ravel(), cv=kf, scoring='neg_root_mean_squared_error')\n",
    "    mae_scores = -cross_val_score(model, X_train, y_train.ravel(), cv=kf, scoring='neg_mean_absolute_error')\n",
    "    r2_scores = cross_val_score(model, X_train, y_train.ravel(), cv=kf, scoring='r2')\n",
    "    \n",
    "    # Entrenar modelo final\n",
    "    model.fit(X_train, y_train.ravel())\n",
    "    y_pred = model.predict(X_test)\n",
    "    \n",
    "    # Calcular métricas en test\n",
    "    rmse_test = mean_squared_error(y_test, y_pred, squared=False)\n",
    "    mae_test = mean_absolute_error(y_test, y_pred)\n",
    "    r2_test = r2_score(y_test, y_pred)\n",
    "    \n",
    "    evaluations.append({\n",
    "        \"Model\": name,\n",
    "        \"RMSE_CV\": np.mean(rmse_scores),\n",
    "        \"MAE_CV\": np.mean(mae_scores),\n",
    "        \"R2_CV\": np.mean(r2_scores),\n",
    "        \"RMSE_Test\": rmse_test,\n",
    "        \"MAE_Test\": mae_test,\n",
    "        \"R2_Test\": r2_test\n",
    "    })\n",
    "\n",
    "# Convertir a DataFrame y mostrar resultados\n",
    "evaluations_df = pd.DataFrame(evaluations)\n",
    "print(evaluations_df.sort_values(by=\"RMSE_Test\"))\n",
    "\n",
    "# Seleccionar el mejor modelo (menor RMSE en test)\n",
    "best_model = min(evaluations, key=lambda x: x[\"RMSE_Test\"])\n",
    "print(f\"Mejor modelo: {best_model['Model']} con RMSE_Test: {best_model['RMSE_Test']:.4f}\")"
   ]
  },
  {
   "cell_type": "markdown",
   "metadata": {},
   "source": [
    "Exportar PKL"
   ]
  },
  {
   "cell_type": "code",
   "execution_count": 7,
   "metadata": {},
   "outputs": [
    {
     "name": "stdout",
     "output_type": "stream",
     "text": [
      "Modelo guardado: models/linear_regression.pkl\n",
      "Modelo guardado: models/linear_regression_svd.pkl\n",
      "Modelo guardado: models/batch_gradient_descent.pkl\n",
      "Modelo guardado: models/stochastic_gradient_descent.pkl\n",
      "Modelo guardado: models/polynomial_regression.pkl\n",
      "Modelo guardado: models/ridge_regression.pkl\n",
      "Modelo guardado: models/lasso_regression.pkl\n"
     ]
    }
   ],
   "source": [
    "import joblib\n",
    "import os\n",
    "\n",
    "# Crear carpeta \"models\" si no existe\n",
    "os.makedirs(\"models\", exist_ok=True)\n",
    "\n",
    "# Guardar todos los modelos entrenados en formato .pkl\n",
    "for name, model in models.items():\n",
    "    filename = f\"models/{name.replace(' ', '_').lower()}.pkl\"\n",
    "    joblib.dump(model, filename)\n",
    "    print(f\"Modelo guardado: {filename}\")\n"
   ]
  },
  {
   "cell_type": "code",
   "execution_count": 8,
   "metadata": {},
   "outputs": [
    {
     "name": "stdout",
     "output_type": "stream",
     "text": [
      "Métricas guardadas en /Users/melaniealvarez/Documents/Octavo semestres/Data Mining/Pset2/notebooks/models/metrics.json\n"
     ]
    }
   ],
   "source": [
    "import json\n",
    "\n",
    "metrics_file = \"/Users/melaniealvarez/Documents/Octavo semestres/Data Mining/Pset2/notebooks/models/metrics.json\"\n",
    "\n",
    "# Guardar las métricas en un archivo JSON\n",
    "with open(metrics_file, \"w\") as f:\n",
    "    json.dump(evaluations, f, indent=4)\n",
    "\n",
    "print(f\"Métricas guardadas en {metrics_file}\")"
   ]
  }
 ],
 "metadata": {
  "kernelspec": {
   "display_name": "base",
   "language": "python",
   "name": "python3"
  },
  "language_info": {
   "codemirror_mode": {
    "name": "ipython",
    "version": 3
   },
   "file_extension": ".py",
   "mimetype": "text/x-python",
   "name": "python",
   "nbconvert_exporter": "python",
   "pygments_lexer": "ipython3",
   "version": "3.12.7"
  }
 },
 "nbformat": 4,
 "nbformat_minor": 2
}
