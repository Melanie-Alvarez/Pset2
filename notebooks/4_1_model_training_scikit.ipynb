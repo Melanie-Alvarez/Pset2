{
 "cells": [
  {
   "cell_type": "code",
   "execution_count": 1,
   "metadata": {},
   "outputs": [],
   "source": [
    "import pandas as pd\n",
    "import numpy as np\n",
    "import matplotlib.pyplot as plt\n",
    "from sklearn.model_selection import train_test_split, GridSearchCV\n",
    "from sklearn.linear_model import LinearRegression, SGDRegressor\n",
    "from sklearn.preprocessing import PolynomialFeatures\n",
    "from sklearn.pipeline import make_pipeline\n",
    "from sklearn.metrics import mean_squared_error, mean_absolute_error, r2_score\n",
    "from sklearn.preprocessing import StandardScaler\n",
    "from sklearn.decomposition import TruncatedSVD\n",
    "from sklearn.pipeline import Pipeline\n",
    "from sklearn.linear_model import Lasso, Ridge"
   ]
  },
  {
   "cell_type": "code",
   "execution_count": 2,
   "metadata": {},
   "outputs": [
    {
     "name": "stdout",
     "output_type": "stream",
     "text": [
      "         id  log_price property_type  amenities  accommodates  cleaning_fee  \\\n",
      "0   6901257   5.010635     Apartment          1             3             1   \n",
      "1   6304928   5.129899     Apartment          1             7             1   \n",
      "2   7919400   4.976734     Apartment          1             5             1   \n",
      "3  13418779   6.620073         House          1             4             1   \n",
      "4   3808709   4.744932     Apartment          1             2             1   \n",
      "\n",
      "   review_scores_rating  bedrooms  room_Entire home/apt  room_Private room  \\\n",
      "0            100.000000       1.0                     1                  0   \n",
      "1             93.000000       3.0                     1                  0   \n",
      "2             92.000000       1.0                     1                  0   \n",
      "3             94.067365       2.0                     1                  0   \n",
      "4             40.000000       1.0                     1                  0   \n",
      "\n",
      "   room_Shared room  city_Boston  city_Chicago  city_DC  city_LA  city_NYC  \\\n",
      "0                 0            0             0        0        0         1   \n",
      "1                 0            0             0        0        0         1   \n",
      "2                 0            0             0        0        0         1   \n",
      "3                 0            0             0        0        0         0   \n",
      "4                 0            0             0        1        0         0   \n",
      "\n",
      "   city_SF  property_type_encoded  \n",
      "0        0                      0  \n",
      "1        0                      0  \n",
      "2        0                      0  \n",
      "3        1                     17  \n",
      "4        0                      0  \n"
     ]
    }
   ],
   "source": [
    "df_airbnb_cost_scikit = pd.read_csv('/Users/melaniealvarez/Documents/Octavo semestres/Data Mining/Pset2/data/ml/airbnb_analysis.csv')\n",
    "print(df_airbnb_cost_scikit.head())"
   ]
  },
  {
   "cell_type": "code",
   "execution_count": 3,
   "metadata": {},
   "outputs": [],
   "source": [
    "# Seleccionar las características numéricas relevantes\n",
    "features = ['amenities', 'accommodates', 'cleaning_fee', 'review_scores_rating', 'bedrooms', 'room_Entire home/apt', 'room_Private room', 'room_Shared room', 'city_Boston', 'city_Chicago', 'city_DC', 'city_LA', 'city_NYC', 'city_SF', 'property_type_encoded']\n",
    "target = \"log_price\"\n",
    "\n",
    "# Extraer X (características) y y (objetivo)\n",
    "X = df_airbnb_cost_scikit[features].values\n",
    "y = df_airbnb_cost_scikit[target].values.reshape(-1, 1)\n",
    "\n",
    "# Dividir en conjunto de entrenamiento (80%) y prueba (20%)\n",
    "X_train, X_test, y_train, y_test = train_test_split(X, y, test_size=0.2, random_state=42)"
   ]
  },
  {
   "cell_type": "markdown",
   "metadata": {},
   "source": [
    "Regresión lineal"
   ]
  },
  {
   "cell_type": "code",
   "execution_count": 4,
   "metadata": {},
   "outputs": [
    {
     "name": "stdout",
     "output_type": "stream",
     "text": [
      "Predicciones del modelo para X_test:\n",
      "[[4.05638325]\n",
      " [4.80144157]\n",
      " [5.26397838]\n",
      " [5.10209026]\n",
      " [4.22979176]]\n",
      "Coeficientes del modelo:\n",
      "[[-2.15443900e-02  1.53803933e-01 -2.92305984e-02  4.34131481e-02\n",
      "   1.53420109e-01 -3.23459023e+10 -3.20737690e+10 -1.09637956e+10\n",
      "  -1.17043320e+10 -1.21721334e+10 -1.47733847e+10 -2.55055030e+10\n",
      "  -2.75403771e+10 -1.55612137e+10  7.45864436e-03]]\n",
      "Intercepto: [4.78068929]\n"
     ]
    }
   ],
   "source": [
    "scaler = StandardScaler()\n",
    "X_train = scaler.fit_transform(X_train)\n",
    "X_test = scaler.transform(X_test)\n",
    "\n",
    "# Crear y entrenar el modelo de regresión lineal\n",
    "model = LinearRegression()\n",
    "model.fit(X_train, y_train)\n",
    "\n",
    "# Hacer predicciones en el conjunto de prueba\n",
    "y_pred = model.predict(X_test)\n",
    "\n",
    "# Mostrar las primeras predicciones\n",
    "print(\"Predicciones del modelo para X_test:\")\n",
    "print(y_pred[:5])\n",
    "\n",
    "# Mostrar coeficientes del modelo\n",
    "print(\"Coeficientes del modelo:\")\n",
    "print(model.coef_)\n",
    "print(\"Intercepto:\", model.intercept_)"
   ]
  },
  {
   "cell_type": "markdown",
   "metadata": {},
   "source": [
    "Regresión Polinomial"
   ]
  },
  {
   "cell_type": "code",
   "execution_count": 5,
   "metadata": {},
   "outputs": [
    {
     "name": "stdout",
     "output_type": "stream",
     "text": [
      "Predicciones del modelo para X_test:\n",
      "[[4.11370621]\n",
      " [4.73187348]\n",
      " [5.29038522]\n",
      " [5.08583161]\n",
      " [4.27209244]]\n",
      "Coeficientes del modelo de regresión polinomial:\n",
      "[[ 1.11246834e+09  2.13628531e-01 -2.50587786e+09  6.52477741e-02\n",
      "   5.33054654e+10 -5.71824857e+10 -9.54223097e+09  1.75126126e+11\n",
      "  -8.76542413e+10 -4.44993368e+10  4.95856787e+10  6.12555972e+11\n",
      "  -4.67848438e+10  3.40137796e+10 -1.56229176e-02  1.11246834e+09\n",
      "  -1.30716534e-02  6.01447513e-03 -2.36751395e-03  3.53242282e-03\n",
      "   3.72877786e+10  3.70003988e+10  2.40600117e+10 -3.16620050e+10\n",
      "  -2.28000795e+10 -3.26381068e+10 -9.59827827e+10 -8.64944976e+10\n",
      "  -4.88683806e+10  6.60676509e-04 -4.86231202e-02 -2.49229889e-02\n",
      "   1.43890843e-02  1.52740479e-02 -4.13707041e+10 -4.01737796e+10\n",
      "  -1.77533378e+10  9.71869304e+08  1.21607843e+09  1.26022000e+09\n",
      "   2.26416916e+09  2.18670984e+09  1.18876876e+09 -4.80651855e-04\n",
      "  -2.50587786e+09 -1.52587891e-05  1.25427246e-02  5.79635492e+10\n",
      "   5.82479359e+10  2.40007062e+10  1.64665466e+10  1.73563802e+10\n",
      "   2.30997545e+10  3.58169714e+10  4.02640277e+10  2.22786952e+10\n",
      "  -1.15242004e-02  2.98004150e-02 -1.17988586e-02 -3.51556442e+10\n",
      "  -3.49608977e+10 -1.49688098e+10  8.34712305e+09  6.99278447e+09\n",
      "   9.12791726e+09  1.74630602e+10  1.92096544e+10  9.79705761e+09\n",
      "   6.67572021e-03 -5.09510040e-02  4.09201149e+10  3.93747419e+10\n",
      "   1.61791901e+11  8.51788176e+09  9.96020486e+09  1.13879698e+10\n",
      "   2.00754262e+10  1.91055485e+10  1.15130468e+10  1.38854980e-02\n",
      "   9.89547339e+09  1.39885771e+11  2.05589534e+11 -2.85181911e+10\n",
      "   1.54133004e+08  4.62152213e+09  3.98247263e+10 -5.49064793e+10\n",
      "  -1.60040257e+11 -9.12823851e+09  3.37677627e+09  8.34201702e+08\n",
      "   2.03481440e+10  5.07039706e+10  6.40955575e+10  1.45822190e+11\n",
      "   6.13892741e+10 -9.37110065e+10 -9.09993778e+09  5.74927554e+10\n",
      "  -1.47704929e+11 -2.11579071e+11 -2.45059459e+11 -5.04668077e+11\n",
      "  -5.10365472e+11 -2.52776015e+11 -3.01032804e+09 -3.27874700e+10\n",
      "  -1.52611324e+10 -7.39824800e+10  1.07740663e+11 -1.43671487e+11\n",
      "  -6.07251066e+10 -4.02801304e+09 -2.27366858e+10 -4.31195192e+10\n",
      "   3.61931281e+10 -5.86207626e+10 -4.96509103e+10 -4.19459334e+09\n",
      "  -2.16041478e+10  9.58852405e+10 -3.89898560e+10 -6.22967857e+09\n",
      "  -6.14722598e+09 -2.48606364e+11  1.56747284e+11 -1.19246744e+10\n",
      "  -9.97366603e+09  2.25523941e+11  1.43183965e+10 -9.51492972e+09\n",
      "  -4.76582039e+10 -5.78757420e+09  1.90305710e-02]]\n",
      "Intercepto: [5.23543111]\n"
     ]
    }
   ],
   "source": [
    "degree = 2 \n",
    "pipeline = Pipeline([\n",
    "    ('poly_features', PolynomialFeatures(degree=degree, include_bias=False)),\n",
    "    ('scaler', StandardScaler()),\n",
    "    ('lin_reg', LinearRegression())\n",
    "])\n",
    "\n",
    "# Entrenar el modelo\n",
    "pipeline.fit(X_train, y_train)\n",
    "\n",
    "# Hacer predicciones en el conjunto de prueba\n",
    "y_pred = pipeline.predict(X_test)\n",
    "\n",
    "# Mostrar las primeras predicciones\n",
    "print(\"Predicciones del modelo para X_test:\")\n",
    "print(y_pred[:5])\n",
    "\n",
    "# Obtener coeficientes del modelo\n",
    "print(\"Coeficientes del modelo de regresión polinomial:\")\n",
    "print(pipeline.named_steps['lin_reg'].coef_)\n",
    "print(\"Intercepto:\", pipeline.named_steps['lin_reg'].intercept_)"
   ]
  },
  {
   "cell_type": "markdown",
   "metadata": {},
   "source": [
    "Regresión lineal con SVD"
   ]
  },
  {
   "cell_type": "code",
   "execution_count": 6,
   "metadata": {},
   "outputs": [
    {
     "name": "stdout",
     "output_type": "stream",
     "text": [
      "Predicciones del modelo para X_test:\n",
      "[[4.05982771]\n",
      " [4.80113172]\n",
      " [5.26166367]\n",
      " [5.10020241]\n",
      " [4.23211577]]\n",
      "Coeficientes del modelo de regresión lineal (SVD):\n",
      "[[ 2.77443332e-01  9.13235947e-02  9.51801175e-02 -3.11203131e-02\n",
      "   2.08718740e-02  1.01025477e-01 -1.61346983e-02  6.02140122e-02\n",
      "  -8.23846734e-02 -2.24398837e-03 -7.02731442e-02  2.82470125e-03\n",
      "   1.39821259e-03 -3.22554976e-18]]\n",
      "Intercepto: [4.78053776]\n"
     ]
    }
   ],
   "source": [
    "svd = TruncatedSVD(n_components=min(X_train.shape) - 1)\n",
    "X_train_svd = svd.fit_transform(X_train)\n",
    "X_test_svd = svd.transform(X_test)\n",
    "\n",
    "# Crear y entrenar el modelo de regresión lineal\n",
    "model = LinearRegression()\n",
    "model.fit(X_train_svd, y_train)\n",
    "\n",
    "# Hacer predicciones en el conjunto de prueba\n",
    "y_pred = model.predict(X_test_svd)\n",
    "\n",
    "# Mostrar las primeras predicciones\n",
    "print(\"Predicciones del modelo para X_test:\")\n",
    "print(y_pred[:5])\n",
    "\n",
    "# Mostrar coeficientes del modelo\n",
    "print(\"Coeficientes del modelo de regresión lineal (SVD):\")\n",
    "print(model.coef_)\n",
    "print(\"Intercepto:\", model.intercept_)"
   ]
  },
  {
   "cell_type": "markdown",
   "metadata": {},
   "source": [
    "Regresión lineal con Batch Gradient Descent"
   ]
  },
  {
   "cell_type": "code",
   "execution_count": 7,
   "metadata": {},
   "outputs": [
    {
     "name": "stdout",
     "output_type": "stream",
     "text": [
      "Predicciones del modelo para X_test:\n",
      "[4.40823185 4.86901416 5.13296564 4.90854316 4.33059187]\n",
      "Coeficientes del modelo de regresión lineal (Batch Gradient Descent - SGDRegressor):\n",
      "[-0.08260537  0.10059389 -0.00571732  0.08870124  0.15205502  0.1564792\n",
      " -0.12010325 -0.11029911 -0.01049814 -0.00185429  0.0629313  -0.05735112\n",
      " -0.01970832  0.0784823   0.01029135]\n",
      "Intercepto: [4.78664183]\n"
     ]
    },
    {
     "name": "stderr",
     "output_type": "stream",
     "text": [
      "/opt/anaconda3/lib/python3.12/site-packages/sklearn/utils/validation.py:1339: DataConversionWarning: A column-vector y was passed when a 1d array was expected. Please change the shape of y to (n_samples, ), for example using ravel().\n",
      "  y = column_or_1d(y, warn=True)\n"
     ]
    }
   ],
   "source": [
    "model = SGDRegressor(max_iter=1000, tol=1e-3, eta0=0.01, learning_rate='constant', random_state=42)\n",
    "model.fit(X_train, y_train)\n",
    "\n",
    "# Hacer predicciones en el conjunto de prueba\n",
    "y_pred = model.predict(X_test)\n",
    "\n",
    "# Mostrar las primeras predicciones\n",
    "print(\"Predicciones del modelo para X_test:\")\n",
    "print(y_pred[:5])\n",
    "\n",
    "# Mostrar coeficientes del modelo\n",
    "print(\"Coeficientes del modelo de regresión lineal (Batch Gradient Descent - SGDRegressor):\")\n",
    "print(model.coef_)\n",
    "print(\"Intercepto:\", model.intercept_)"
   ]
  },
  {
   "cell_type": "markdown",
   "metadata": {},
   "source": [
    "Regresión lineal con Stochastic Gradient Descent"
   ]
  },
  {
   "cell_type": "code",
   "execution_count": 8,
   "metadata": {},
   "outputs": [
    {
     "name": "stdout",
     "output_type": "stream",
     "text": [
      "Predicciones del modelo para X_test:\n",
      "[4.40823185 4.86901416 5.13296564 4.90854316 4.33059187]\n",
      "Coeficientes del modelo de regresión lineal (Stochastic Gradient Descent - SGDRegressor):\n",
      "[-0.08260537  0.10059389 -0.00571732  0.08870124  0.15205502  0.1564792\n",
      " -0.12010325 -0.11029911 -0.01049814 -0.00185429  0.0629313  -0.05735112\n",
      " -0.01970832  0.0784823   0.01029135]\n",
      "Intercepto: [4.78664183]\n"
     ]
    },
    {
     "name": "stderr",
     "output_type": "stream",
     "text": [
      "/opt/anaconda3/lib/python3.12/site-packages/sklearn/utils/validation.py:1339: DataConversionWarning: A column-vector y was passed when a 1d array was expected. Please change the shape of y to (n_samples, ), for example using ravel().\n",
      "  y = column_or_1d(y, warn=True)\n"
     ]
    }
   ],
   "source": [
    "model = SGDRegressor(max_iter=1000, tol=1e-3, eta0=0.01, learning_rate='constant', random_state=42)\n",
    "model.fit(X_train, y_train)\n",
    "\n",
    "# Hacer predicciones en el conjunto de prueba\n",
    "y_pred = model.predict(X_test)\n",
    "\n",
    "# Mostrar las primeras predicciones\n",
    "print(\"Predicciones del modelo para X_test:\")\n",
    "print(y_pred[:5])\n",
    "\n",
    "# Mostrar coeficientes del modelo\n",
    "print(\"Coeficientes del modelo de regresión lineal (Stochastic Gradient Descent - SGDRegressor):\")\n",
    "print(model.coef_)\n",
    "print(\"Intercepto:\", model.intercept_)"
   ]
  },
  {
   "cell_type": "markdown",
   "metadata": {},
   "source": [
    "LASSO Regression"
   ]
  },
  {
   "cell_type": "code",
   "execution_count": 9,
   "metadata": {},
   "outputs": [
    {
     "name": "stdout",
     "output_type": "stream",
     "text": [
      "Predicciones del modelo para X_test:\n",
      "[4.40112651 4.87816274 5.16809628 5.07544697 4.40112651]\n",
      "Coeficientes del modelo de Lasso Regression:\n",
      "[-0.          0.10621259 -0.          0.          0.11147041  0.23700753\n",
      " -0.         -0.          0.         -0.          0.         -0.\n",
      "  0.          0.01103678  0.        ]\n",
      "Intercepto: [4.78053776]\n"
     ]
    }
   ],
   "source": [
    "alpha = 0.1  # Parámetro de regularización\n",
    "model = Lasso(alpha=alpha)\n",
    "model.fit(X_train, y_train)\n",
    "\n",
    "# Hacer predicciones en el conjunto de prueba\n",
    "y_pred = model.predict(X_test)\n",
    "\n",
    "# Mostrar las primeras predicciones\n",
    "print(\"Predicciones del modelo para X_test:\")\n",
    "print(y_pred[:5])\n",
    "\n",
    "# Mostrar coeficientes del modelo\n",
    "print(\"Coeficientes del modelo de Lasso Regression:\")\n",
    "print(model.coef_)\n",
    "print(\"Intercepto:\", model.intercept_)"
   ]
  },
  {
   "cell_type": "markdown",
   "metadata": {},
   "source": [
    "Ridge Regression"
   ]
  },
  {
   "cell_type": "code",
   "execution_count": 10,
   "metadata": {},
   "outputs": [
    {
     "name": "stdout",
     "output_type": "stream",
     "text": [
      "Predicciones del modelo para X_test:\n",
      "[[4.05982855]\n",
      " [4.80113182]\n",
      " [5.26166338]\n",
      " [5.10020227]\n",
      " [4.23211622]]\n",
      "Coeficientes del modelo de Ridge Regression:\n",
      "[[-0.02174653  0.15446751 -0.02942306  0.04329897  0.1533988   0.16328499\n",
      "  -0.12565636 -0.11413265  0.00841774 -0.05821332  0.01786913 -0.05151589\n",
      "   0.00668627  0.09484255  0.00744334]]\n",
      "Intercepto: [4.78053776]\n"
     ]
    }
   ],
   "source": [
    "alpha = 0.1  # Parámetro de regularización\n",
    "model = Ridge(alpha=alpha)\n",
    "model.fit(X_train, y_train)\n",
    "\n",
    "# Hacer predicciones en el conjunto de prueba\n",
    "y_pred = model.predict(X_test)\n",
    "\n",
    "# Mostrar las primeras predicciones\n",
    "print(\"Predicciones del modelo para X_test:\")\n",
    "print(y_pred[:5])\n",
    "\n",
    "# Mostrar coeficientes del modelo\n",
    "print(\"Coeficientes del modelo de Ridge Regression:\")\n",
    "print(model.coef_)\n",
    "print(\"Intercepto:\", model.intercept_)\n"
   ]
  }
 ],
 "metadata": {
  "kernelspec": {
   "display_name": "base",
   "language": "python",
   "name": "python3"
  },
  "language_info": {
   "codemirror_mode": {
    "name": "ipython",
    "version": 3
   },
   "file_extension": ".py",
   "mimetype": "text/x-python",
   "name": "python",
   "nbconvert_exporter": "python",
   "pygments_lexer": "ipython3",
   "version": "3.12.7"
  }
 },
 "nbformat": 4,
 "nbformat_minor": 2
}
